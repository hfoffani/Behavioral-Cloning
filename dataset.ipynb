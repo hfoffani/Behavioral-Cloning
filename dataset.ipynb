{
 "cells": [
  {
   "cell_type": "code",
   "execution_count": 49,
   "metadata": {
    "collapsed": false
   },
   "outputs": [],
   "source": [
    "import numpy as np\n",
    "import matplotlib.pyplot as plt\n"
   ]
  },
  {
   "cell_type": "code",
   "execution_count": 50,
   "metadata": {
    "collapsed": false
   },
   "outputs": [
    {
     "data": {
      "image/png": "[encoded data removed]",
      "text/plain": [
       "<matplotlib.figure.Figure at 0x106b8fd68>"
      ]
     },
     "metadata": {},
     "output_type": "display_data"
    },
    {
     "name": "stdout",
     "output_type": "stream",
     "text": [
      "total 37817\n"
     ]
    }
   ],
   "source": [
    "with (open('models/angles.csv')) as angfile:\n",
    "    lines = angfile.readlines()\n",
    "    lines = lines[1:]\n",
    "    lines = map(str.strip, lines)\n",
    "    lines = list(map(float, lines))\n",
    "\n",
    "angles = np.array(lines)\n",
    "hist, bins = np.histogram(angles, bins=50)\n",
    "width = 0.5 * (bins[1] - bins[0])\n",
    "center = (bins[:-1] + bins[1:]) / 2\n",
    "plt.bar(center, hist, align='center', width=width)\n",
    "plt.show()\n",
    "\n",
    "print('total', len(angles))"
   ]
  },
  {
   "cell_type": "code",
   "execution_count": 47,
   "metadata": {
    "collapsed": false
   },
   "outputs": [
    {
     "name": "stdout",
     "output_type": "stream",
     "text": [
      "[   2    4    0    1    3    6    2    7   12    9   34   61   74  119  236\n",
      "  235  312  942  827 1184 1475 1522 1539 1777 1281 2181 1777 1539 1522 1475\n",
      " 1184  827  942  312  235  236  119   74   61   34    9   12    7    2    6\n",
      "    3    1    0    4    2]\n"
     ]
    }
   ],
   "source": [
    "print(hist)"
   ]
  },
  {
   "cell_type": "code",
   "execution_count": 48,
   "metadata": {
    "collapsed": false
   },
   "outputs": [
    {
     "name": "stdout",
     "output_type": "stream",
     "text": [
      "[-1.2   -1.152 -1.104 -1.056 -1.008 -0.96  -0.912 -0.864 -0.816 -0.768\n",
      " -0.72  -0.672 -0.624 -0.576 -0.528 -0.48  -0.432 -0.384 -0.336 -0.288\n",
      " -0.24  -0.192 -0.144 -0.096 -0.048  0.     0.048  0.096  0.144  0.192\n",
      "  0.24   0.288  0.336  0.384  0.432  0.48   0.528  0.576  0.624  0.672\n",
      "  0.72   0.768  0.816  0.864  0.912  0.96   1.008  1.056  1.104  1.152  1.2  ]\n"
     ]
    }
   ],
   "source": [
    "print(bins)"
   ]
  },
  {
   "cell_type": "code",
   "execution_count": null,
   "metadata": {
    "collapsed": true
   },
   "outputs": [],
   "source": []
  }
 ],
 "metadata": {
  "kernelspec": {
   "display_name": "Python 3",
   "language": "python",
   "name": "python3"
  },
  "language_info": {
   "codemirror_mode": {
    "name": "ipython",
    "version": 3
   },
   "file_extension": ".py",
   "mimetype": "text/x-python",
   "name": "python",
   "nbconvert_exporter": "python",
   "pygments_lexer": "ipython3",
   "version": "3.5.2"
  }
 },
 "nbformat": 4,
 "nbformat_minor": 2
}
